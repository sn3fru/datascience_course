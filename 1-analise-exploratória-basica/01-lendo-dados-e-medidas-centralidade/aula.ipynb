{
 "cells": [
  {
   "cell_type": "markdown",
   "metadata": {
    "toc": true
   },
   "source": [
    "<h1>Table of Contents<span class=\"tocSkip\"></span></h1>\n",
    "<div class=\"toc\"><ul class=\"toc-item\"><li><span><a href=\"#O-que-é-Análise-exploratória-de-Dados?\" data-toc-modified-id=\"O-que-é-Análise-exploratória-de-Dados?-1\"><span class=\"toc-item-num\">1&nbsp;&nbsp;</span>O que é Análise exploratória de Dados?</a></span><ul class=\"toc-item\"><li><span><a href=\"#Etapas\" data-toc-modified-id=\"Etapas-1.1\"><span class=\"toc-item-num\">1.1&nbsp;&nbsp;</span>Etapas</a></span></li><li><span><a href=\"#Problema:\" data-toc-modified-id=\"Problema:-1.2\"><span class=\"toc-item-num\">1.2&nbsp;&nbsp;</span>Problema:</a></span></li></ul></li><li><span><a href=\"#Abrindo-o-arquivo-e-acessando-os-dados\" data-toc-modified-id=\"Abrindo-o-arquivo-e-acessando-os-dados-2\"><span class=\"toc-item-num\">2&nbsp;&nbsp;</span>Abrindo o arquivo e acessando os dados</a></span></li><li><span><a href=\"#Medidas-de-Centralidade\" data-toc-modified-id=\"Medidas-de-Centralidade-3\"><span class=\"toc-item-num\">3&nbsp;&nbsp;</span>Medidas de Centralidade</a></span><ul class=\"toc-item\"><li><span><a href=\"#Média\" data-toc-modified-id=\"Média-3.1\"><span class=\"toc-item-num\">3.1&nbsp;&nbsp;</span>Média</a></span><ul class=\"toc-item\"><li><span><a href=\"#Fazendo-a-média-com-nosso-arquivo-original\" data-toc-modified-id=\"Fazendo-a-média-com-nosso-arquivo-original-3.1.1\"><span class=\"toc-item-num\">3.1.1&nbsp;&nbsp;</span>Fazendo a média com nosso arquivo original</a></span></li><li><span><a href=\"#Calculando-a-média-de-Salario,-anos-de-estudo-e-idade-no-mesmo-código.\" data-toc-modified-id=\"Calculando-a-média-de-Salario,-anos-de-estudo-e-idade-no-mesmo-código.-3.1.2\"><span class=\"toc-item-num\">3.1.2&nbsp;&nbsp;</span>Calculando a média de Salario, anos de estudo e idade no mesmo código.</a></span></li></ul></li><li><span><a href=\"#Mediana\" data-toc-modified-id=\"Mediana-3.2\"><span class=\"toc-item-num\">3.2&nbsp;&nbsp;</span>Mediana</a></span><ul class=\"toc-item\"><li><span><a href=\"#Função-para-calcular-a-Mediana-com-Dicionarios\" data-toc-modified-id=\"Função-para-calcular-a-Mediana-com-Dicionarios-3.2.1\"><span class=\"toc-item-num\">3.2.1&nbsp;&nbsp;</span>Função para calcular a Mediana com Dicionarios</a></span></li></ul></li><li><span><a href=\"#Moda\" data-toc-modified-id=\"Moda-3.3\"><span class=\"toc-item-num\">3.3&nbsp;&nbsp;</span>Moda</a></span></li></ul></li><li><span><a href=\"#Prévia-da-resposta-para-o-nosso-problema.-As-homens-ganham-mais-do-que-as-mulheres?-Quanto?\" data-toc-modified-id=\"Prévia-da-resposta-para-o-nosso-problema.-As-homens-ganham-mais-do-que-as-mulheres?-Quanto?-4\"><span class=\"toc-item-num\">4&nbsp;&nbsp;</span>Prévia da resposta para o nosso problema. As homens ganham mais do que as mulheres? Quanto?</a></span></li></ul></div>"
   ]
  },
  {
   "cell_type": "markdown",
   "metadata": {},
   "source": [
    "# Data Science\n",
    "\n",
    "\n",
    "-> Método Cientifico:"
   ]
  },
  {
   "cell_type": "code",
   "execution_count": 1,
   "metadata": {},
   "outputs": [
    {
     "data": {
      "text/html": [
       "<iframe width=\"560\" height=\"315\" src=\"https://www.youtube.com/embed/q40uPdnyhp0\" frameborder=\"0\" allow=\"accelerometer; autoplay; encrypted-media; gyroscope; picture-in-picture\" allowfullscreen></iframe>"
      ],
      "text/plain": [
       "<IPython.core.display.HTML object>"
      ]
     },
     "execution_count": 1,
     "metadata": {},
     "output_type": "execute_result"
    }
   ],
   "source": [
    "from IPython.display import HTML\n",
    "\n",
    "HTML('<iframe width=\"560\" height=\"315\" src=\"https://www.youtube.com/embed/q40uPdnyhp0\" frameborder=\"0\" allow=\"accelerometer; autoplay; encrypted-media; gyroscope; picture-in-picture\" allowfullscreen></iframe>')"
   ]
  },
  {
   "cell_type": "markdown",
   "metadata": {},
   "source": [
    "# Análise exploratória de dados\n",
    "\n",
    "<br>\n",
    "<img src=\"img/EDA.jpg\">\n",
    "<br>\n",
    "\n",
    "\n",
    "## O que é Análise exploratória de Dados?\n",
    "\n",
    "Em estatística, a **análise exploratória de dados (AED)** é uma abordagem à análise de conjuntos de dados de modo a resumir suas características principais, frequentemente com métodos visuais. Um modelo estatístico pode ou não ser usado, mas primariamente a AED tem como objetivo observar o que os dados podem nos dizer além da modelagem formal ou do processo de teste de hipóteses. A análise exploratória de dados foi promovida pelo estatístico norte-americano John Tukey, que incentivava os estatísticos a explorar os dados e possivelmente formular hipóteses que poderiam levar a novas coletas de dados e experimentos. A **AED** é diferente da análise inicial de dados (AID), que se concentra mais estreitamente em verificar os pressupostos exigidos para ajuste de modelos e teste de hipóteses, além de manusear valores faltantes e fazer transformações de variáveis conforme necessário. A análise exploratória de dados abrange a AID.\n",
    "\n",
    "A análise exploratória de dados emprega grande variedade de técnicas gráficas e quantitativas, visando maximizar a obtenção de informações ocultas na sua estrutura, descobrir variáveis importantes em suas tendências, detectar comportamentos anômalos do fenômeno, testar se são válidas as hipóteses assumidas, escolher modelos e determinar o número ótimo de variáveis.\n",
    "\n",
    "Os softwares atualmente disponíveis possibilitam que esta técnica se constitua em uma ferramenta para descobrir quais tendências, relações e padrões podem estar ocultos em uma coleção de dados analisados. Seguindo as diretrizes propostas por Tukey, os investigadores deveriam iniciar sua análise pelo exame dos dados disponíveis e depois decidir qual técnica aplicar para resolver o problema. \n",
    "\n",
    "### Etapas\n",
    "\n",
    "(Existe vários frameworks diferentes com essas etapas, e certamenta alguns funcionam melhor que outros dependendo do problema enfrentado. Até mesmo as perguntas mais elementares como \"Entendendo o Problema\" pode ser que não exista em algum caso especifico, então usem como um guia, não como a verdade).\n",
    "\n",
    "Etapas básicas:\n",
    "\n",
    "1. **Entendendo o Problema**. De longe a etapa mais importante e potêncialmente a mais dificil do problema\n",
    "    \n",
    "2. **Entendendo os Dados**. Na aula de hoje focaremos nesta etapa. Faremos um overview sobre os dados e analisaremos as medidas de centralidade.\n",
    "    \n",
    "3. **Analise Univariada**. Na próxima aula iremos um pouco além, entendendo mais a fundo as estatisticas descritivas dos dados.\n",
    "    \n",
    "4. **Outliers, Nulos e outros**. Nessa etapa, trataremos os dados para que façam sentido para os nossos algoritmos.\n",
    "    \n",
    "5. **Analise Multivariada**. Aqui vamos entender como as variaveis estão relacionadas entre si.\n",
    "    \n",
    "6. **Inferências e Relações Causais**. Por último vamos responder nossa pergunta\n",
    "    \n",
    "    \n",
    "    \n",
    "    \n",
    "### Problema:\n",
    "\n",
    "- Muito se fala de desigualdade salarial entre generos. Existe desigualdade? E se sim, de quanto ela é?\n"
   ]
  },
  {
   "cell_type": "markdown",
   "metadata": {},
   "source": [
    "## Abrindo o arquivo e acessando os dados"
   ]
  },
  {
   "cell_type": "code",
   "execution_count": 2,
   "metadata": {},
   "outputs": [
    {
     "name": "stdout",
     "output_type": "stream",
     "text": [
      "<class '_csv.reader'>\n"
     ]
    }
   ],
   "source": [
    "import csv\n",
    "\n",
    "\n",
    "with open(r'data/data.csv', 'r') as data_csv:\n",
    "    data = csv.reader(data_csv)\n",
    "    print(type(data))"
   ]
  },
  {
   "cell_type": "code",
   "execution_count": 3,
   "metadata": {},
   "outputs": [
    {
     "name": "stdout",
     "output_type": "stream",
     "text": [
      "['seq', 'id', 'idade', 'sexo', 'anos_estudo', 'cor/raca', 'salario', 'estado_civil', 'regiao']\n",
      "['0', '11001901101.0', '53', 'homem', '5.0', 'Parda', '63600.0', '1.0', 'norte']\n",
      "['1', '11001901102.0', '49', 'mulher', '8.0', 'Amarela', '', '1.0', 'norte']\n",
      "['2', '11001901103.0', '22', 'mulher', '11.0', 'Indigena', '4352.400390625', '0.0', 'nordeste']\n",
      "['3', '11001903101.0', '55', 'homem', '15.0', 'Amarela', '96600.0', '1.0', 'norte']\n",
      "['4', '11001903102.0', '56', 'mulher', '15.0', 'Amarela', '157800.0', '1.0', 'norte']\n",
      "['5', '11001903103.0', '30', 'mulher', '15.0', 'Amarela', '88550.0', '0.0', 'nordeste']\n",
      "['6', '11001904101.0', '52', 'mulher', '5.0', 'Branca', '6734.400390625', '0.0', 'norte']\n",
      "['7', '11001904104.0', '29', 'homem', '5.0', 'Parda', '14875.20068359375', '0.0', 'norte']\n",
      "['8', '11001904105.0', '29', 'mulher', '11.0', 'Parda', '6734.400390625', '0.0', 'norte']\n"
     ]
    }
   ],
   "source": [
    "\n",
    "with open(r'data/data.csv', 'r') as data_csv:\n",
    "    data = csv.reader(data_csv)\n",
    "    \n",
    "    contador = 0\n",
    "    for row in data:\n",
    "        print(row)\n",
    "        contador = contador + 1\n",
    "        \n",
    "#         print(row[2],row[4],row[6])\n",
    "        if contador == 10:\n",
    "            break"
   ]
  },
  {
   "cell_type": "code",
   "execution_count": 4,
   "metadata": {},
   "outputs": [
    {
     "data": {
      "text/plain": [
       "list"
      ]
     },
     "execution_count": 4,
     "metadata": {},
     "output_type": "execute_result"
    }
   ],
   "source": [
    "type(row)"
   ]
  },
  {
   "cell_type": "code",
   "execution_count": 5,
   "metadata": {},
   "outputs": [
    {
     "data": {
      "text/plain": [
       "str"
      ]
     },
     "execution_count": 5,
     "metadata": {},
     "output_type": "execute_result"
    }
   ],
   "source": [
    "type(row[1])"
   ]
  },
  {
   "cell_type": "markdown",
   "metadata": {},
   "source": [
    "## Medidas de Centralidade\n",
    "\n",
    "### Média\n",
    "\n",
    "\n",
    "*fonte: Wikipedia*\n",
    "\n",
    "Em estatística, média é definida como o valor que mostra para onde se concentram os dados de uma distribuição como o ponto de equilíbrio das frequências em um histograma. Média também é interpretada como um valor significativo de uma lista de números. Os valores de uma lista de números podem ser representados por meio da escolha aleatória de um número. Se todos os números forem iguais, o número escolhido aleatoriamente será a média. Então, a média pode ser calculada por meio da combinação dos números de maneira específica e da geração de um valor significativo. Entretanto, a palavra média é usualmente usada em métodos mais sofisticados como média aritmética, mediana, moda, entre outros.\n",
    "\n",
    "Seguindo uma definição mais informal de \"média\", pode-se assumir que no campo da estatística, dados possuem posições. Por exemplo, cada valor dos lançamentos de um dado possui sua posição em uma planilha eletrônica. Em estatística, média é uma medida de posição que indica um valor uniforme dos dados. Por exemplo, o conjunto x = { 2 , 1 , 6 , 5 , 10 } possui média aritmética 4,8. Embora 4,8 seja o valor médio, ele não é o valor central definido pela mediana.\n",
    "\n",
    "\n",
    "<br>\n",
    "<img src=\"img/media.png\">\n",
    "<br>\n",
    "\n",
    "\n",
    "A **média** é calculada por:\n",
    "\n",
    "$$ \\overline x = \\frac{1}{n} \\sum_i x_i $$\n",
    "\n",
    "Por exemplo, para a mostra 8, 5, 3, -1, e -5, a média é:"
   ]
  },
  {
   "cell_type": "code",
   "execution_count": 6,
   "metadata": {},
   "outputs": [
    {
     "name": "stdout",
     "output_type": "stream",
     "text": [
      "Somando 8 + 0 = 8\n",
      "Somando 5 + 8 = 13\n",
      "Somando 3 + 13 = 16\n",
      "Somando -1 + 16 = 15\n",
      "Somando -5 + 15 = 10\n",
      "\n",
      "média: 2.0\n"
     ]
    }
   ],
   "source": [
    "numbers = [8,5,3,-1,-5]\n",
    "\n",
    "somatorio = 0\n",
    "for number in numbers:\n",
    "    somatorio += number\n",
    "    print(f'Somando {number} + {somatorio-number} = {somatorio}')\n",
    "    \n",
    "media = somatorio/len(numbers)\n",
    "print('\\nmédia:',media)"
   ]
  },
  {
   "cell_type": "markdown",
   "metadata": {},
   "source": [
    "#### Fazendo a média com nosso arquivo original"
   ]
  },
  {
   "cell_type": "code",
   "execution_count": 41,
   "metadata": {
    "scrolled": true
   },
   "outputs": [
    {
     "name": "stdout",
     "output_type": "stream",
     "text": [
      "Média da coluna Idade: 37.63\n"
     ]
    }
   ],
   "source": [
    "with open(r'data/data.csv', 'r') as data_csv:\n",
    "    data = csv.reader(data_csv)\n",
    "    \n",
    "    lista_exemplo = []\n",
    "    somatorio = 0\n",
    "    for i, line in enumerate(data):\n",
    "        if i>0:\n",
    "            somatorio +=  int(line[2])\n",
    "            lista_exemplo.append(line[2])\n",
    "            \n",
    "\n",
    "media = round(somatorio/len(lista_exemplo),2)\n",
    "\n",
    "print(f'Média da coluna Idade: {media}')"
   ]
  },
  {
   "cell_type": "markdown",
   "metadata": {},
   "source": [
    "#### Calculando a média de Salario, anos de estudo e idade no mesmo código."
   ]
  },
  {
   "cell_type": "code",
   "execution_count": 8,
   "metadata": {},
   "outputs": [
    {
     "name": "stdout",
     "output_type": "stream",
     "text": [
      "['0', '11001901101.0', '53', 'homem', '5.0', 'Parda', '63600.0', '1.0', 'norte']\n",
      "['1', '11001901102.0', '49', 'mulher', '8.0', 'Amarela', '', '1.0', 'norte']\n"
     ]
    },
    {
     "ename": "ValueError",
     "evalue": "could not convert string to float: ",
     "output_type": "error",
     "traceback": [
      "\u001b[0;31m---------------------------------------------------------------------------\u001b[0m",
      "\u001b[0;31mValueError\u001b[0m                                Traceback (most recent call last)",
      "\u001b[0;32m<ipython-input-8-4e87affea75f>\u001b[0m in \u001b[0;36m<module>\u001b[0;34m()\u001b[0m\n\u001b[1;32m     14\u001b[0m             \u001b[0msomatorio_idade\u001b[0m \u001b[0;34m+=\u001b[0m \u001b[0mint\u001b[0m\u001b[0;34m(\u001b[0m\u001b[0mrow\u001b[0m\u001b[0;34m[\u001b[0m\u001b[0;36m2\u001b[0m\u001b[0;34m]\u001b[0m\u001b[0;34m)\u001b[0m\u001b[0;34m\u001b[0m\u001b[0;34m\u001b[0m\u001b[0m\n\u001b[1;32m     15\u001b[0m             \u001b[0msomatorio_estudo\u001b[0m \u001b[0;34m+=\u001b[0m \u001b[0mfloat\u001b[0m\u001b[0;34m(\u001b[0m\u001b[0mrow\u001b[0m\u001b[0;34m[\u001b[0m\u001b[0;36m4\u001b[0m\u001b[0;34m]\u001b[0m\u001b[0;34m)\u001b[0m\u001b[0;34m\u001b[0m\u001b[0;34m\u001b[0m\u001b[0m\n\u001b[0;32m---> 16\u001b[0;31m             \u001b[0msomatorio_salario\u001b[0m \u001b[0;34m+=\u001b[0m \u001b[0mfloat\u001b[0m\u001b[0;34m(\u001b[0m\u001b[0mrow\u001b[0m\u001b[0;34m[\u001b[0m\u001b[0;36m6\u001b[0m\u001b[0;34m]\u001b[0m\u001b[0;34m)\u001b[0m\u001b[0;34m\u001b[0m\u001b[0;34m\u001b[0m\u001b[0m\n\u001b[0m\u001b[1;32m     17\u001b[0m \u001b[0;34m\u001b[0m\u001b[0m\n\u001b[1;32m     18\u001b[0m \u001b[0;34m\u001b[0m\u001b[0m\n",
      "\u001b[0;31mValueError\u001b[0m: could not convert string to float: "
     ]
    }
   ],
   "source": [
    "somatorio_idade = 0\n",
    "somatorio_estudo = 0\n",
    "somatorio_salario = 0\n",
    "\n",
    "\n",
    "with open(r'data/data.csv', 'r') as data_csv:\n",
    "    data = csv.reader(data_csv)\n",
    "    \n",
    "    lista_exemplo = []\n",
    "    somatorio = 0\n",
    "    for i, row in enumerate(data):\n",
    "        if i>0:\n",
    "            print(row)\n",
    "            somatorio_idade += int(row[2])\n",
    "            somatorio_estudo += float(row[4])\n",
    "            somatorio_salario += float(row[6])\n",
    "            \n",
    "        \n",
    "media_idade = round(somatorio_idade/i,2)\n",
    "media_estudo = round(somatorio_estudo/i,2)\n",
    "media_salario = round(somatorio_salario/i,2)\n",
    "\n",
    "\n",
    "print(f'Média da coluna Idade: {media_idade}')\n",
    "print(f'Média da coluna Anos de Estudo: {media_estudo}')\n",
    "print(f'Média da coluna Salario: {media_salario}')"
   ]
  },
  {
   "cell_type": "code",
   "execution_count": 9,
   "metadata": {},
   "outputs": [],
   "source": [
    "# As linhas NULAS não podem ser convertidas em valores números?\n",
    "# Como resolver ? Podemos criar uma FUNÇÃO que resolve isso?"
   ]
  },
  {
   "cell_type": "code",
   "execution_count": 10,
   "metadata": {},
   "outputs": [
    {
     "ename": "SyntaxError",
     "evalue": "unexpected EOF while parsing (<ipython-input-10-42147fe43dc9>, line 7)",
     "output_type": "error",
     "traceback": [
      "\u001b[0;36m  File \u001b[0;32m\"<ipython-input-10-42147fe43dc9>\"\u001b[0;36m, line \u001b[0;32m7\u001b[0m\n\u001b[0;31m    #return saida\u001b[0m\n\u001b[0m                 ^\u001b[0m\n\u001b[0;31mSyntaxError\u001b[0m\u001b[0;31m:\u001b[0m unexpected EOF while parsing\n"
     ]
    }
   ],
   "source": [
    "def substitui_nulo_por_zero(entrada):\n",
    "\n",
    "    #\n",
    "    #\n",
    "    #\n",
    "\n",
    "    #return saida"
   ]
  },
  {
   "cell_type": "code",
   "execution_count": 11,
   "metadata": {},
   "outputs": [
    {
     "ename": "NameError",
     "evalue": "name 'substitui_nulo_por_zero' is not defined",
     "output_type": "error",
     "traceback": [
      "\u001b[0;31m---------------------------------------------------------------------------\u001b[0m",
      "\u001b[0;31mNameError\u001b[0m                                 Traceback (most recent call last)",
      "\u001b[0;32m<ipython-input-11-cbef955e0243>\u001b[0m in \u001b[0;36m<module>\u001b[0;34m()\u001b[0m\n\u001b[1;32m      7\u001b[0m     \u001b[0mdata\u001b[0m \u001b[0;34m=\u001b[0m \u001b[0mcsv\u001b[0m\u001b[0;34m.\u001b[0m\u001b[0mreader\u001b[0m\u001b[0;34m(\u001b[0m\u001b[0mdata_csv\u001b[0m\u001b[0;34m)\u001b[0m\u001b[0;34m\u001b[0m\u001b[0;34m\u001b[0m\u001b[0m\n\u001b[1;32m      8\u001b[0m \u001b[0;34m\u001b[0m\u001b[0m\n\u001b[0;32m----> 9\u001b[0;31m     \u001b[0msubstitui_nulo_por_zero\u001b[0m\u001b[0;34m(\u001b[0m\u001b[0mdata\u001b[0m\u001b[0;34m)\u001b[0m\u001b[0;34m\u001b[0m\u001b[0;34m\u001b[0m\u001b[0m\n\u001b[0m\u001b[1;32m     10\u001b[0m \u001b[0;34m\u001b[0m\u001b[0m\n\u001b[1;32m     11\u001b[0m     \u001b[0mlista_exemplo\u001b[0m \u001b[0;34m=\u001b[0m \u001b[0;34m[\u001b[0m\u001b[0;34m]\u001b[0m\u001b[0;34m\u001b[0m\u001b[0;34m\u001b[0m\u001b[0m\n",
      "\u001b[0;31mNameError\u001b[0m: name 'substitui_nulo_por_zero' is not defined"
     ]
    }
   ],
   "source": [
    "somatorio_idade = 0\n",
    "somatorio_estudo = 0\n",
    "somatorio_salario = 0\n",
    "\n",
    "\n",
    "with open(r'data/data.csv', 'r') as data_csv:\n",
    "    data = csv.reader(data_csv)\n",
    "    \n",
    "    substitui_nulo_por_zero(data)\n",
    "    \n",
    "    lista_exemplo = []\n",
    "    somatorio = 0\n",
    "    \n",
    "    for i, row in enumerate(data):\n",
    "        \n",
    "        if i>0:\n",
    "            print(row)\n",
    "            somatorio_idade += int(row[2])\n",
    "            somatorio_estudo += float(row[4])\n",
    "            somatorio_salario += float(row[6])\n",
    "            \n",
    "        \n",
    "media_idade = round(somatorio_idade/i,2)\n",
    "media_estudo = round(somatorio_estudo/i,2)\n",
    "media_salario = round(somatorio_salario/i,2)\n",
    "\n",
    "\n",
    "print(f'Média da coluna Idade: {media_idade}')\n",
    "print(f'Média da coluna Anos de Estudo: {media_estudo}')\n",
    "print(f'Média da coluna Salario: {media_salario}')"
   ]
  },
  {
   "cell_type": "code",
   "execution_count": null,
   "metadata": {},
   "outputs": [],
   "source": []
  },
  {
   "cell_type": "code",
   "execution_count": null,
   "metadata": {},
   "outputs": [],
   "source": []
  },
  {
   "cell_type": "markdown",
   "metadata": {},
   "source": [
    "### Mediana\n",
    "\n",
    "\n",
    "\n",
    "Mediana é o valor que separa a metade maior e a metade menor de uma amostra, uma população ou uma distribuição de probabilidade. Em termos mais simples, mediana pode ser o valor do meio de um conjunto de dados. No conjunto de dados {1, 3, 3, 6, 7, 8, 9}, por exemplo, a mediana é 6. Se houver um número par de observações, não há um único valor do meio. Então, a mediana é definida como a média dos dois valores do meio. No conjunto de dados {3, 5, 7, 9}, a mediana é (5 + 7) / 2 = 6.\n",
    "\n",
    "A mediana é uma medida comum das propriedades de conjuntos de dados em estatística e em teoria das probabilidades, com importância central na estatística robusta. A estatística robusta é mais resistente, com ponto de ruptura de 50%. A mediana não fornece resultados arbitrariamente grandes desde que mais da metade dos dados não esteja contaminada.\n",
    "\n",
    "A vantagem da mediana em relação à média é que a mediana pode dar uma ideia melhor de um valor típico porque não é tão distorcida por valores extremamente altos ou baixos. Em estudos estatísticos sobre renda familiar ou outros ativos voláteis, a média pode ser distorcida por um pequeno número de valores extremamente altos ou baixos. \n",
    "\n",
    "Exemplos:\n",
    "\n",
    "- Ímpar:\n",
    "\t\t[1, 2, 3, 5, 7, 8, 9, 10, 15]\n",
    "\t\t#elementos: 9\n",
    "\t\tA mediana é o valor da posição 5 (a posição do “meio”)\n",
    "\t\tMediana =  7\n",
    "        \n",
    "        \n",
    "- Par: \n",
    "\t\t[-5, -1, 0, 1, 2, 3, 8, 20]\n",
    "\t\t#elementos: 8\n",
    "\t\tA mediana é a média dos valores nas duas posições centrais\n",
    "\t\tMediana =  (1+2)/2 = 1.5"
   ]
  },
  {
   "cell_type": "markdown",
   "metadata": {},
   "source": [
    "#### Função para calcular a Mediana com Dicionarios"
   ]
  },
  {
   "cell_type": "markdown",
   "metadata": {},
   "source": [
    "Vamos criar um looping para procurar a pessoa mais velha da base"
   ]
  },
  {
   "cell_type": "code",
   "execution_count": 12,
   "metadata": {},
   "outputs": [
    {
     "name": "stdout",
     "output_type": "stream",
     "text": [
      "A pessoa mais velha na base é o id 11002710101.0, que tem 60 anos.\n"
     ]
    }
   ],
   "source": [
    "max_age = None\n",
    "oldest_person = None\n",
    "\n",
    "input_file = csv.DictReader(open(r'data/data.csv', 'r'))\n",
    "\n",
    "for row in input_file:\n",
    "    age = int(row[\"idade\"])\n",
    "    if max_age == None or max_age < age:\n",
    "        max_age = age\n",
    "        oldest_person = row[\"id\"]\n",
    "\n",
    "if max_age != None:\n",
    "    print(\"A pessoa mais velha na base é o id %s, que tem %d anos.\" % (oldest_person, max_age))\n",
    "else:\n",
    "    print(\"Não tem ninguém nesse arquivo\")"
   ]
  },
  {
   "cell_type": "markdown",
   "metadata": {},
   "source": [
    "Procurando a pessoa mais nova da base"
   ]
  },
  {
   "cell_type": "code",
   "execution_count": null,
   "metadata": {},
   "outputs": [],
   "source": []
  },
  {
   "cell_type": "markdown",
   "metadata": {},
   "source": [
    "#### Calculando a mediana"
   ]
  },
  {
   "cell_type": "code",
   "execution_count": null,
   "metadata": {},
   "outputs": [],
   "source": []
  },
  {
   "cell_type": "code",
   "execution_count": null,
   "metadata": {},
   "outputs": [],
   "source": []
  },
  {
   "cell_type": "markdown",
   "metadata": {},
   "source": [
    "### Moda\n",
    "\n",
    "\n",
    "Em estatística, moda é uma das medidas de tendência central de um conjunto de dados, assim como a média e a mediana. Ela pode ser definida em moda amostral e populacional.\n",
    "\n",
    "Em relação à primeira delas, a moda amostral de um conjunto de dados trata do valor que ocorre com maior frequência ou o valor mais comum em um conjunto de dados. Moda é especialmente útil quando os valores ou as observações não são numéricos, casos em que a média e a mediana não podem ser definidas. \n",
    "\n",
    "Moda amostral não é necessariamente única como média ou mediana. Amostras que possuem uma moda são chamadas unimodais. Por exemplo, a amostra {1, 2, 3, 5, 5, 6, 7} tem moda 5. Amostras que possuem duas modas são chamadas bimodais. Por exemplo, a amostra {1, 2, 3, 5, 5, 6, 6} tem modas 5 e 6. Amostras que possuem várias modas são chamadas multimodais. Por exemplo, a amostra {1, 2 3, 5, 5, 6, 6, 7, 7} tem modas 5, 6 e 7. Amostras que não possuem moda são chamadas amodais. Por exemplo, a amostra {1, 3, 2, 5, 7, 6} não tem moda. \n",
    "\n",
    "Por exemplo, a moda de [0,1,1,2,2,2,2,3,3,4,4,4,5] é 2.\n",
    "\n",
    "A moda não é necessariamente única. Pode ser que existam dois valores diferentes que sejam os mais frequentes. Por exemplo, no caso de [10, 13, 13, 20, 20], tanto 13 como 20 são a moda.\n",
    "\n",
    "<br>\n",
    "<img src=\"img/moda2.png\">\n",
    "<br>"
   ]
  },
  {
   "cell_type": "markdown",
   "metadata": {},
   "source": [
    "Material complementar para dicionarios python: http://excript.com/python/funcoes-dicionarios.html"
   ]
  },
  {
   "cell_type": "code",
   "execution_count": 13,
   "metadata": {},
   "outputs": [
    {
     "name": "stdout",
     "output_type": "stream",
     "text": [
      "\n",
      " OrderedDict([('seq', '0'), ('id', '11001901101.0'), ('idade', '53'), ('sexo', 'homem'), ('anos_estudo', '5.0'), ('cor/raca', 'Parda'), ('salario', '63600.0'), ('estado_civil', '1.0'), ('regiao', 'norte')])\n",
      "\n",
      " OrderedDict([('seq', '1'), ('id', '11001901102.0'), ('idade', '49'), ('sexo', 'mulher'), ('anos_estudo', '8.0'), ('cor/raca', 'Amarela'), ('salario', ''), ('estado_civil', '1.0'), ('regiao', 'norte')])\n",
      "\n",
      " OrderedDict([('seq', '2'), ('id', '11001901103.0'), ('idade', '22'), ('sexo', 'mulher'), ('anos_estudo', '11.0'), ('cor/raca', 'Indigena'), ('salario', '4352.400390625'), ('estado_civil', '0.0'), ('regiao', 'nordeste')])\n",
      "\n",
      " OrderedDict([('seq', '3'), ('id', '11001903101.0'), ('idade', '55'), ('sexo', 'homem'), ('anos_estudo', '15.0'), ('cor/raca', 'Amarela'), ('salario', '96600.0'), ('estado_civil', '1.0'), ('regiao', 'norte')])\n",
      "\n",
      " OrderedDict([('seq', '4'), ('id', '11001903102.0'), ('idade', '56'), ('sexo', 'mulher'), ('anos_estudo', '15.0'), ('cor/raca', 'Amarela'), ('salario', '157800.0'), ('estado_civil', '1.0'), ('regiao', 'norte')])\n",
      "\n",
      " OrderedDict([('seq', '5'), ('id', '11001903103.0'), ('idade', '30'), ('sexo', 'mulher'), ('anos_estudo', '15.0'), ('cor/raca', 'Amarela'), ('salario', '88550.0'), ('estado_civil', '0.0'), ('regiao', 'nordeste')])\n",
      "\n",
      " OrderedDict([('seq', '6'), ('id', '11001904101.0'), ('idade', '52'), ('sexo', 'mulher'), ('anos_estudo', '5.0'), ('cor/raca', 'Branca'), ('salario', '6734.400390625'), ('estado_civil', '0.0'), ('regiao', 'norte')])\n",
      "\n",
      " OrderedDict([('seq', '7'), ('id', '11001904104.0'), ('idade', '29'), ('sexo', 'homem'), ('anos_estudo', '5.0'), ('cor/raca', 'Parda'), ('salario', '14875.20068359375'), ('estado_civil', '0.0'), ('regiao', 'norte')])\n",
      "\n",
      " OrderedDict([('seq', '8'), ('id', '11001904105.0'), ('idade', '29'), ('sexo', 'mulher'), ('anos_estudo', '11.0'), ('cor/raca', 'Parda'), ('salario', '6734.400390625'), ('estado_civil', '0.0'), ('regiao', 'norte')])\n",
      "\n",
      " OrderedDict([('seq', '9'), ('id', '11001905101.0'), ('idade', '46'), ('sexo', 'mulher'), ('anos_estudo', '15.0'), ('cor/raca', 'Branca'), ('salario', '54300.0'), ('estado_civil', '1.0'), ('regiao', 'norte')])\n"
     ]
    }
   ],
   "source": [
    "input_file = csv.DictReader(open(r'data/data.csv', 'r') )\n",
    "\n",
    "contador = 0\n",
    "for row in input_file:\n",
    "    contador += 1\n",
    "    if contador <= 10:\n",
    "        print('\\n', row)"
   ]
  },
  {
   "cell_type": "code",
   "execution_count": 14,
   "metadata": {},
   "outputs": [
    {
     "data": {
      "text/plain": [
       "OrderedDict([('seq', '66469'),\n",
       "             ('id', '53117018102.0'),\n",
       "             ('idade', '37'),\n",
       "             ('sexo', 'homem'),\n",
       "             ('anos_estudo', '5.0'),\n",
       "             ('cor/raca', 'Preta'),\n",
       "             ('salario', '460.3500061035156'),\n",
       "             ('estado_civil', '1.0'),\n",
       "             ('regiao', 'centro-oeste')])"
      ]
     },
     "execution_count": 14,
     "metadata": {},
     "output_type": "execute_result"
    }
   ],
   "source": [
    "row"
   ]
  },
  {
   "cell_type": "code",
   "execution_count": 15,
   "metadata": {},
   "outputs": [
    {
     "data": {
      "text/plain": [
       "'37'"
      ]
     },
     "execution_count": 15,
     "metadata": {},
     "output_type": "execute_result"
    }
   ],
   "source": [
    "row['idade']"
   ]
  },
  {
   "cell_type": "code",
   "execution_count": 16,
   "metadata": {},
   "outputs": [
    {
     "data": {
      "text/plain": [
       "'centro-oeste'"
      ]
     },
     "execution_count": 16,
     "metadata": {},
     "output_type": "execute_result"
    }
   ],
   "source": [
    "row['regiao']"
   ]
  },
  {
   "cell_type": "markdown",
   "metadata": {},
   "source": [
    "Criando a tabela como um dicionario"
   ]
  },
  {
   "cell_type": "code",
   "execution_count": 17,
   "metadata": {},
   "outputs": [
    {
     "data": {
      "text/plain": [
       "OrderedDict([('seq', '66469'),\n",
       "             ('id', '53117018102.0'),\n",
       "             ('idade', '37'),\n",
       "             ('sexo', 'homem'),\n",
       "             ('anos_estudo', '5.0'),\n",
       "             ('cor/raca', 'Preta'),\n",
       "             ('salario', '460.3500061035156'),\n",
       "             ('estado_civil', '1.0'),\n",
       "             ('regiao', 'centro-oeste')])"
      ]
     },
     "execution_count": 17,
     "metadata": {},
     "output_type": "execute_result"
    }
   ],
   "source": [
    "row"
   ]
  },
  {
   "cell_type": "code",
   "execution_count": 18,
   "metadata": {},
   "outputs": [],
   "source": [
    "dict_table = dict()\n",
    "dict_table = {}\n",
    "\n",
    "with open(r'data/data.csv', 'r') as data_csv:\n",
    "    data = csv.reader(data_csv)\n",
    "    header = next(data, None)\n",
    "    \n",
    "    for row in data:    \n",
    "        dict_table[row[1]] = {'idade':row[2], 'sexo':row[3], 'anos_estudo':row[4], 'salario': row[6]}"
   ]
  },
  {
   "cell_type": "code",
   "execution_count": 19,
   "metadata": {},
   "outputs": [
    {
     "data": {
      "text/plain": [
       "True"
      ]
     },
     "execution_count": 19,
     "metadata": {},
     "output_type": "execute_result"
    }
   ],
   "source": [
    "'11027211101.0' in dict_table"
   ]
  },
  {
   "cell_type": "code",
   "execution_count": 20,
   "metadata": {},
   "outputs": [
    {
     "data": {
      "text/plain": [
       "{'idade': '53', 'sexo': 'homem', 'anos_estudo': '5.0', 'salario': '7128.0'}"
      ]
     },
     "execution_count": 20,
     "metadata": {},
     "output_type": "execute_result"
    }
   ],
   "source": [
    "dict_table['11027211101.0']"
   ]
  },
  {
   "cell_type": "code",
   "execution_count": 21,
   "metadata": {},
   "outputs": [
    {
     "data": {
      "text/plain": [
       "'5.0'"
      ]
     },
     "execution_count": 21,
     "metadata": {},
     "output_type": "execute_result"
    }
   ],
   "source": [
    "dict_table['11027211101.0']['anos_estudo']"
   ]
  },
  {
   "cell_type": "code",
   "execution_count": 22,
   "metadata": {},
   "outputs": [],
   "source": [
    "dict_table['11027211101.0']['anos_estudo'] = '6'"
   ]
  },
  {
   "cell_type": "code",
   "execution_count": 23,
   "metadata": {},
   "outputs": [
    {
     "data": {
      "text/plain": [
       "{'idade': '53', 'sexo': 'homem', 'anos_estudo': '6', 'salario': '7128.0'}"
      ]
     },
     "execution_count": 23,
     "metadata": {},
     "output_type": "execute_result"
    }
   ],
   "source": [
    "dict_table['11027211101.0']"
   ]
  },
  {
   "cell_type": "code",
   "execution_count": 24,
   "metadata": {},
   "outputs": [],
   "source": [
    "del dict_table['11027211101.0']"
   ]
  },
  {
   "cell_type": "code",
   "execution_count": 25,
   "metadata": {},
   "outputs": [
    {
     "ename": "KeyError",
     "evalue": "'11027211101.0'",
     "output_type": "error",
     "traceback": [
      "\u001b[0;31m---------------------------------------------------------------------------\u001b[0m",
      "\u001b[0;31mKeyError\u001b[0m                                  Traceback (most recent call last)",
      "\u001b[0;32m<ipython-input-25-7d8af068c742>\u001b[0m in \u001b[0;36m<module>\u001b[0;34m()\u001b[0m\n\u001b[0;32m----> 1\u001b[0;31m \u001b[0mdict_table\u001b[0m\u001b[0;34m[\u001b[0m\u001b[0;34m'11027211101.0'\u001b[0m\u001b[0;34m]\u001b[0m\u001b[0;34m\u001b[0m\u001b[0;34m\u001b[0m\u001b[0m\n\u001b[0m",
      "\u001b[0;31mKeyError\u001b[0m: '11027211101.0'"
     ]
    }
   ],
   "source": [
    "dict_table['11027211101.0']"
   ]
  },
  {
   "cell_type": "code",
   "execution_count": 26,
   "metadata": {},
   "outputs": [],
   "source": [
    "def create_text_histogram(txt):\n",
    "    dictionary = {}\n",
    "    i=0\n",
    "    for x in set(txt): # função set\n",
    "        dictionary[x] = txt.count(x)\n",
    "    return dictionary"
   ]
  },
  {
   "cell_type": "code",
   "execution_count": 27,
   "metadata": {},
   "outputs": [
    {
     "data": {
      "text/plain": [
       "{'t': 3,\n",
       " 'd': 2,\n",
       " 'c': 1,\n",
       " 'e': 4,\n",
       " 'g': 1,\n",
       " 's': 3,\n",
       " 'a': 6,\n",
       " 'o': 2,\n",
       " 'p': 2,\n",
       " 'f': 1,\n",
       " 'h': 1,\n",
       " 'i': 2,\n",
       " 'm': 2,\n",
       " 'r': 4,\n",
       " ' ': 5}"
      ]
     },
     "execution_count": 27,
     "metadata": {},
     "output_type": "execute_result"
    }
   ],
   "source": [
    "create_text_histogram(txt='teste de frase comprida para histograma')"
   ]
  },
  {
   "cell_type": "code",
   "execution_count": 28,
   "metadata": {},
   "outputs": [],
   "source": [
    "contagem_idades = {}\n",
    "\n",
    "with open(r'data/data.csv', 'r') as data_csv:\n",
    "    data = csv.reader(data_csv)\n",
    "    header = next(data, None)\n",
    "    \n",
    "    idades = []\n",
    "    for row in data:\n",
    "        idades.append(row[2])\n",
    "        \n",
    "    "
   ]
  },
  {
   "cell_type": "code",
   "execution_count": 29,
   "metadata": {},
   "outputs": [],
   "source": [
    "histograma_idades = create_text_histogram(idades)"
   ]
  },
  {
   "cell_type": "code",
   "execution_count": 30,
   "metadata": {},
   "outputs": [
    {
     "data": {
      "text/plain": [
       "dict"
      ]
     },
     "execution_count": 30,
     "metadata": {},
     "output_type": "execute_result"
    }
   ],
   "source": [
    "type(histograma_idades)"
   ]
  },
  {
   "cell_type": "code",
   "execution_count": 31,
   "metadata": {},
   "outputs": [
    {
     "data": {
      "text/plain": [
       "{'50': 1461,\n",
       " '49': 1429,\n",
       " '32': 1852,\n",
       " '27': 2017,\n",
       " '45': 1627,\n",
       " '60': 951,\n",
       " '31': 1796,\n",
       " '56': 1087,\n",
       " '28': 2056,\n",
       " '47': 1446,\n",
       " '23': 2014,\n",
       " '59': 999,\n",
       " '30': 1996,\n",
       " '22': 2034,\n",
       " '42': 1673,\n",
       " '33': 1812,\n",
       " '26': 2040,\n",
       " '39': 1759,\n",
       " '44': 1688,\n",
       " '57': 1092,\n",
       " '41': 1552,\n",
       " '48': 1505,\n",
       " '43': 1699,\n",
       " '58': 969,\n",
       " '35': 1672,\n",
       " '55': 1133,\n",
       " '21': 1987,\n",
       " '36': 1723,\n",
       " '38': 1727,\n",
       " '46': 1566,\n",
       " '20': 2104,\n",
       " '54': 1221,\n",
       " '29': 1943,\n",
       " '25': 2014,\n",
       " '51': 1260,\n",
       " '53': 1249,\n",
       " '34': 1737,\n",
       " '52': 1244,\n",
       " '40': 1732,\n",
       " '37': 1712,\n",
       " '24': 1892}"
      ]
     },
     "execution_count": 31,
     "metadata": {},
     "output_type": "execute_result"
    }
   ],
   "source": [
    "histograma_idades"
   ]
  },
  {
   "cell_type": "code",
   "execution_count": 32,
   "metadata": {},
   "outputs": [
    {
     "data": {
      "text/plain": [
       "dict_keys(['50', '49', '32', '27', '45', '60', '31', '56', '28', '47', '23', '59', '30', '22', '42', '33', '26', '39', '44', '57', '41', '48', '43', '58', '35', '55', '21', '36', '38', '46', '20', '54', '29', '25', '51', '53', '34', '52', '40', '37', '24'])"
      ]
     },
     "execution_count": 32,
     "metadata": {},
     "output_type": "execute_result"
    }
   ],
   "source": [
    "histograma_idades.keys()"
   ]
  },
  {
   "cell_type": "code",
   "execution_count": 33,
   "metadata": {},
   "outputs": [
    {
     "data": {
      "text/plain": [
       "dict_values([1461, 1429, 1852, 2017, 1627, 951, 1796, 1087, 2056, 1446, 2014, 999, 1996, 2034, 1673, 1812, 2040, 1759, 1688, 1092, 1552, 1505, 1699, 969, 1672, 1133, 1987, 1723, 1727, 1566, 2104, 1221, 1943, 2014, 1260, 1249, 1737, 1244, 1732, 1712, 1892])"
      ]
     },
     "execution_count": 33,
     "metadata": {},
     "output_type": "execute_result"
    }
   ],
   "source": [
    "histograma_idades.values()"
   ]
  },
  {
   "cell_type": "code",
   "execution_count": 34,
   "metadata": {},
   "outputs": [
    {
     "data": {
      "text/plain": [
       "dict_items([('50', 1461), ('49', 1429), ('32', 1852), ('27', 2017), ('45', 1627), ('60', 951), ('31', 1796), ('56', 1087), ('28', 2056), ('47', 1446), ('23', 2014), ('59', 999), ('30', 1996), ('22', 2034), ('42', 1673), ('33', 1812), ('26', 2040), ('39', 1759), ('44', 1688), ('57', 1092), ('41', 1552), ('48', 1505), ('43', 1699), ('58', 969), ('35', 1672), ('55', 1133), ('21', 1987), ('36', 1723), ('38', 1727), ('46', 1566), ('20', 2104), ('54', 1221), ('29', 1943), ('25', 2014), ('51', 1260), ('53', 1249), ('34', 1737), ('52', 1244), ('40', 1732), ('37', 1712), ('24', 1892)])"
      ]
     },
     "execution_count": 34,
     "metadata": {},
     "output_type": "execute_result"
    }
   ],
   "source": [
    "histograma_idades.items()"
   ]
  },
  {
   "cell_type": "code",
   "execution_count": 35,
   "metadata": {},
   "outputs": [
    {
     "name": "stdout",
     "output_type": "stream",
     "text": [
      "20: 2104\n",
      "21: 1987\n",
      "22: 2034\n",
      "23: 2014\n",
      "24: 1892\n",
      "25: 2014\n",
      "26: 2040\n",
      "27: 2017\n",
      "28: 2056\n",
      "29: 1943\n",
      "30: 1996\n",
      "31: 1796\n",
      "32: 1852\n",
      "33: 1812\n",
      "34: 1737\n",
      "35: 1672\n",
      "36: 1723\n",
      "37: 1712\n",
      "38: 1727\n",
      "39: 1759\n",
      "40: 1732\n",
      "41: 1552\n",
      "42: 1673\n",
      "43: 1699\n",
      "44: 1688\n",
      "45: 1627\n",
      "46: 1566\n",
      "47: 1446\n",
      "48: 1505\n",
      "49: 1429\n",
      "50: 1461\n",
      "51: 1260\n",
      "52: 1244\n",
      "53: 1249\n",
      "54: 1221\n",
      "55: 1133\n",
      "56: 1087\n",
      "57: 1092\n",
      "58: 969\n",
      "59: 999\n",
      "60: 951\n"
     ]
    }
   ],
   "source": [
    "for key in sorted(histograma_idades.keys()):\n",
    "    print(\"%s: %s\" % (key, histograma_idades[key]))"
   ]
  },
  {
   "cell_type": "markdown",
   "metadata": {},
   "source": [
    "#### Calculando a moda"
   ]
  },
  {
   "cell_type": "code",
   "execution_count": null,
   "metadata": {},
   "outputs": [],
   "source": []
  },
  {
   "cell_type": "code",
   "execution_count": null,
   "metadata": {},
   "outputs": [],
   "source": []
  },
  {
   "cell_type": "code",
   "execution_count": null,
   "metadata": {},
   "outputs": [],
   "source": []
  },
  {
   "cell_type": "markdown",
   "metadata": {},
   "source": [
    "## Prévia da resposta para o nosso problema. As homens ganham mais do que as mulheres? Quanto?"
   ]
  },
  {
   "cell_type": "code",
   "execution_count": 36,
   "metadata": {},
   "outputs": [
    {
     "name": "stdout",
     "output_type": "stream",
     "text": [
      "Média salário homem: 58358.4\n"
     ]
    }
   ],
   "source": [
    "with open(r'data/data.csv', 'r') as data_csv:\n",
    "    data = csv.reader(data_csv)\n",
    "    \n",
    "    lista_homem = []\n",
    "    somatorio = 0.0\n",
    "    for i, line in enumerate(data):\n",
    "        if i < 10 and i>0:\n",
    "            if line[3] == 'homem':\n",
    "                somatorio +=  float(line[6])\n",
    "                lista_homem.append(line[6])\n",
    "            \n",
    "\n",
    "media = round(somatorio/len(lista_homem),2)\n",
    "\n",
    "print(f'Média salário homem: {media}')"
   ]
  },
  {
   "cell_type": "code",
   "execution_count": 37,
   "metadata": {},
   "outputs": [
    {
     "ename": "ValueError",
     "evalue": "could not convert string to float: ",
     "output_type": "error",
     "traceback": [
      "\u001b[0;31m---------------------------------------------------------------------------\u001b[0m",
      "\u001b[0;31mValueError\u001b[0m                                Traceback (most recent call last)",
      "\u001b[0;32m<ipython-input-37-555e8bef9cf1>\u001b[0m in \u001b[0;36m<module>\u001b[0;34m()\u001b[0m\n\u001b[1;32m      7\u001b[0m         \u001b[0;32mif\u001b[0m \u001b[0mi\u001b[0m \u001b[0;34m<\u001b[0m \u001b[0;36m10\u001b[0m \u001b[0;32mand\u001b[0m \u001b[0mi\u001b[0m\u001b[0;34m>\u001b[0m\u001b[0;36m0\u001b[0m\u001b[0;34m:\u001b[0m\u001b[0;34m\u001b[0m\u001b[0;34m\u001b[0m\u001b[0m\n\u001b[1;32m      8\u001b[0m             \u001b[0;32mif\u001b[0m \u001b[0mline\u001b[0m\u001b[0;34m[\u001b[0m\u001b[0;36m3\u001b[0m\u001b[0;34m]\u001b[0m \u001b[0;34m==\u001b[0m \u001b[0;34m'mulher'\u001b[0m\u001b[0;34m:\u001b[0m\u001b[0;34m\u001b[0m\u001b[0;34m\u001b[0m\u001b[0m\n\u001b[0;32m----> 9\u001b[0;31m                 \u001b[0msomatorio\u001b[0m \u001b[0;34m+=\u001b[0m  \u001b[0mfloat\u001b[0m\u001b[0;34m(\u001b[0m\u001b[0mline\u001b[0m\u001b[0;34m[\u001b[0m\u001b[0;36m6\u001b[0m\u001b[0;34m]\u001b[0m\u001b[0;34m)\u001b[0m\u001b[0;34m\u001b[0m\u001b[0;34m\u001b[0m\u001b[0m\n\u001b[0m\u001b[1;32m     10\u001b[0m                 \u001b[0mlista_mulher\u001b[0m\u001b[0;34m.\u001b[0m\u001b[0mappend\u001b[0m\u001b[0;34m(\u001b[0m\u001b[0mline\u001b[0m\u001b[0;34m[\u001b[0m\u001b[0;36m6\u001b[0m\u001b[0;34m]\u001b[0m\u001b[0;34m)\u001b[0m\u001b[0;34m\u001b[0m\u001b[0;34m\u001b[0m\u001b[0m\n\u001b[1;32m     11\u001b[0m \u001b[0;34m\u001b[0m\u001b[0m\n",
      "\u001b[0;31mValueError\u001b[0m: could not convert string to float: "
     ]
    }
   ],
   "source": [
    "with open(r'data/data.csv', 'r') as data_csv:\n",
    "    data = csv.reader(data_csv)\n",
    "    \n",
    "    lista_mulher = []\n",
    "    somatorio = 0.0\n",
    "    for i, line in enumerate(data):\n",
    "        if i < 10 and i>0:\n",
    "            if line[3] == 'mulher':\n",
    "                somatorio +=  float(line[6])\n",
    "                lista_mulher.append(line[6])\n",
    "            \n",
    "\n",
    "media = round(somatorio/len(lista_mulher),2)\n",
    "\n",
    "print(f'Média salário mulher: {media}')"
   ]
  },
  {
   "cell_type": "code",
   "execution_count": null,
   "metadata": {},
   "outputs": [],
   "source": []
  },
  {
   "cell_type": "code",
   "execution_count": null,
   "metadata": {},
   "outputs": [],
   "source": []
  }
 ],
 "metadata": {
  "hide_input": false,
  "kernelspec": {
   "display_name": "Python 3",
   "language": "python",
   "name": "python3"
  },
  "language_info": {
   "codemirror_mode": {
    "name": "ipython",
    "version": 3
   },
   "file_extension": ".py",
   "mimetype": "text/x-python",
   "name": "python",
   "nbconvert_exporter": "python",
   "pygments_lexer": "ipython3",
   "version": "3.6.8"
  },
  "toc": {
   "base_numbering": 1,
   "nav_menu": {
    "height": "417px",
    "width": "637px"
   },
   "number_sections": true,
   "sideBar": true,
   "skip_h1_title": true,
   "title_cell": "Table of Contents",
   "title_sidebar": "Contents",
   "toc_cell": true,
   "toc_position": {
    "height": "calc(100% - 180px)",
    "left": "10px",
    "top": "150px",
    "width": "296.758px"
   },
   "toc_section_display": true,
   "toc_window_display": true
  },
  "widgets": {
   "application/vnd.jupyter.widget-state+json": {
    "state": {},
    "version_major": 2,
    "version_minor": 0
   }
  }
 },
 "nbformat": 4,
 "nbformat_minor": 2
}
